{
 "cells": [
  {
   "cell_type": "code",
   "execution_count": 17,
   "id": "initial_id",
   "metadata": {
    "collapsed": true,
    "ExecuteTime": {
     "end_time": "2023-10-21T19:48:23.514334296Z",
     "start_time": "2023-10-21T19:48:23.468468717Z"
    }
   },
   "outputs": [],
   "source": [
    "from src.json_models.src.model_generator import ModelGenerator"
   ]
  },
  {
   "cell_type": "code",
   "execution_count": 18,
   "outputs": [],
   "source": [
    "gen = ModelGenerator(json_path=\"/home/andrewheschl/PycharmProjects/classification_pipeline/models/mobilenets/mobilenet_xmodule.json\")"
   ],
   "metadata": {
    "collapsed": false,
    "ExecuteTime": {
     "end_time": "2023-10-21T19:48:30.426327397Z",
     "start_time": "2023-10-21T19:48:30.381948529Z"
    }
   },
   "id": "82fbe34907e059ac"
  },
  {
   "cell_type": "code",
   "execution_count": 19,
   "outputs": [],
   "source": [
    "model = gen.get_model()"
   ],
   "metadata": {
    "collapsed": false,
    "ExecuteTime": {
     "end_time": "2023-10-21T19:48:31.936187525Z",
     "start_time": "2023-10-21T19:48:31.933393644Z"
    }
   },
   "id": "9a27b6a910e00057"
  },
  {
   "cell_type": "code",
   "execution_count": 20,
   "outputs": [
    {
     "data": {
      "text/plain": "torch.Size([1, 7])"
     },
     "execution_count": 20,
     "metadata": {},
     "output_type": "execute_result"
    }
   ],
   "source": [
    "import torch\n",
    "data = torch.ones((1, 3, 320, 320))\n",
    "out = model(data)\n",
    "out.shape"
   ],
   "metadata": {
    "collapsed": false,
    "ExecuteTime": {
     "end_time": "2023-10-21T19:48:33.512502052Z",
     "start_time": "2023-10-21T19:48:33.454194514Z"
    }
   },
   "id": "1e255115b3d0ee18"
  },
  {
   "cell_type": "code",
   "execution_count": 27,
   "outputs": [
    {
     "data": {
      "text/plain": "tensor([[-0.0266,  0.0634, -0.0268,  0.1613,  0.0394, -0.0332,  0.0438]],\n       grad_fn=<AddmmBackward0>)"
     },
     "execution_count": 27,
     "metadata": {},
     "output_type": "execute_result"
    }
   ],
   "source": [
    "out"
   ],
   "metadata": {
    "collapsed": false,
    "ExecuteTime": {
     "end_time": "2023-10-21T19:48:36.866384523Z",
     "start_time": "2023-10-21T19:48:36.862262128Z"
    }
   },
   "id": "9778d5949020efee"
  }
 ],
 "metadata": {
  "kernelspec": {
   "display_name": "Python 3",
   "language": "python",
   "name": "python3"
  },
  "language_info": {
   "codemirror_mode": {
    "name": "ipython",
    "version": 2
   },
   "file_extension": ".py",
   "mimetype": "text/x-python",
   "name": "python",
   "nbconvert_exporter": "python",
   "pygments_lexer": "ipython2",
   "version": "2.7.6"
  }
 },
 "nbformat": 4,
 "nbformat_minor": 5
}
