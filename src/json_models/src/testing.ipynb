{
 "cells": [
  {
   "cell_type": "code",
   "execution_count": 1,
   "id": "initial_id",
   "metadata": {
    "collapsed": true,
    "ExecuteTime": {
     "end_time": "2023-10-19T19:27:55.678386875Z",
     "start_time": "2023-10-19T19:27:54.698414876Z"
    }
   },
   "outputs": [],
   "source": [
    "from src.json_models.src.model_generator import ModelGenerator"
   ]
  },
  {
   "cell_type": "code",
   "execution_count": 2,
   "outputs": [],
   "source": [
    "gen = ModelGenerator(json_path=\"/home/andrewheschl/PycharmProjects/ClassificationPipeline/models/mobilenets/mobilenet.json\")"
   ],
   "metadata": {
    "collapsed": false,
    "ExecuteTime": {
     "end_time": "2023-10-19T19:27:55.846747798Z",
     "start_time": "2023-10-19T19:27:55.679202622Z"
    }
   },
   "id": "82fbe34907e059ac"
  },
  {
   "cell_type": "code",
   "execution_count": 3,
   "outputs": [],
   "source": [
    "model = gen.get_model()"
   ],
   "metadata": {
    "collapsed": false,
    "ExecuteTime": {
     "end_time": "2023-10-19T19:27:55.850184254Z",
     "start_time": "2023-10-19T19:27:55.848387468Z"
    }
   },
   "id": "9a27b6a910e00057"
  },
  {
   "cell_type": "code",
   "execution_count": 4,
   "outputs": [
    {
     "data": {
      "text/plain": "ModelBuilder(\n  (self_modules): ModuleList(\n    (0): MobileNetV2(\n      (stem_conv): PolyWrapper(\n        (branches): ModuleList(\n          (0-2): 3 x PolyBlock(\n            (conv): Conv(\n              (conv): Conv2d(3, 32, kernel_size=(3, 3), stride=(2, 2), padding=(1, 1))\n            )\n            (ch_maxpool): MaxPool3d(kernel_size=(3, 1, 1), stride=(3, 1, 1), padding=0, dilation=1, ceil_mode=False)\n          )\n        )\n      )\n      (layers): Sequential(\n        (0): InvertedBlock(\n          (layers): Sequential(\n            (0): PolyWrapper(\n              (branches): ModuleList(\n                (0-2): 3 x PolyBlock(\n                  (conv): Conv(\n                    (conv): Conv2d(32, 16, kernel_size=(3, 3), stride=(1, 1), padding=(1, 1))\n                  )\n                  (ch_maxpool): MaxPool3d(kernel_size=(32, 1, 1), stride=(32, 1, 1), padding=0, dilation=1, ceil_mode=False)\n                )\n              )\n            )\n            (1): BatchNorm2d(16, eps=1e-05, momentum=0.1, affine=True, track_running_stats=True)\n          )\n        )\n        (1): InvertedBlock(\n          (layers): Sequential(\n            (0): Sequential(\n              (0): Conv2d(16, 96, kernel_size=(1, 1), stride=(1, 1), bias=False)\n              (1): BatchNorm2d(96, eps=1e-05, momentum=0.1, affine=True, track_running_stats=True)\n              (2): ReLU6(inplace=True)\n            )\n            (1): PolyWrapper(\n              (branches): ModuleList(\n                (0-2): 3 x PolyBlock(\n                  (conv): Conv(\n                    (conv): Conv2d(96, 24, kernel_size=(3, 3), stride=(2, 2), padding=(1, 1))\n                  )\n                  (ch_maxpool): MaxPool3d(kernel_size=(96, 1, 1), stride=(96, 1, 1), padding=0, dilation=1, ceil_mode=False)\n                )\n              )\n            )\n            (2): BatchNorm2d(24, eps=1e-05, momentum=0.1, affine=True, track_running_stats=True)\n          )\n        )\n        (2): InvertedBlock(\n          (layers): Sequential(\n            (0): Sequential(\n              (0): Conv2d(24, 144, kernel_size=(1, 1), stride=(1, 1), bias=False)\n              (1): BatchNorm2d(144, eps=1e-05, momentum=0.1, affine=True, track_running_stats=True)\n              (2): ReLU6(inplace=True)\n            )\n            (1): PolyWrapper(\n              (branches): ModuleList(\n                (0-2): 3 x PolyBlock(\n                  (conv): Conv(\n                    (conv): Conv2d(144, 24, kernel_size=(3, 3), stride=(1, 1), padding=(1, 1))\n                  )\n                  (ch_maxpool): MaxPool3d(kernel_size=(144, 1, 1), stride=(144, 1, 1), padding=0, dilation=1, ceil_mode=False)\n                )\n              )\n            )\n            (2): BatchNorm2d(24, eps=1e-05, momentum=0.1, affine=True, track_running_stats=True)\n          )\n        )\n        (3): InvertedBlock(\n          (layers): Sequential(\n            (0): Sequential(\n              (0): Conv2d(24, 144, kernel_size=(1, 1), stride=(1, 1), bias=False)\n              (1): BatchNorm2d(144, eps=1e-05, momentum=0.1, affine=True, track_running_stats=True)\n              (2): ReLU6(inplace=True)\n            )\n            (1): PolyWrapper(\n              (branches): ModuleList(\n                (0-2): 3 x PolyBlock(\n                  (conv): Conv(\n                    (conv): Conv2d(144, 32, kernel_size=(3, 3), stride=(2, 2), padding=(1, 1))\n                  )\n                  (ch_maxpool): MaxPool3d(kernel_size=(144, 1, 1), stride=(144, 1, 1), padding=0, dilation=1, ceil_mode=False)\n                )\n              )\n            )\n            (2): BatchNorm2d(32, eps=1e-05, momentum=0.1, affine=True, track_running_stats=True)\n          )\n        )\n        (4): InvertedBlock(\n          (layers): Sequential(\n            (0): Sequential(\n              (0): Conv2d(32, 192, kernel_size=(1, 1), stride=(1, 1), bias=False)\n              (1): BatchNorm2d(192, eps=1e-05, momentum=0.1, affine=True, track_running_stats=True)\n              (2): ReLU6(inplace=True)\n            )\n            (1): PolyWrapper(\n              (branches): ModuleList(\n                (0-2): 3 x PolyBlock(\n                  (conv): Conv(\n                    (conv): Conv2d(192, 32, kernel_size=(3, 3), stride=(1, 1), padding=(1, 1))\n                  )\n                  (ch_maxpool): MaxPool3d(kernel_size=(192, 1, 1), stride=(192, 1, 1), padding=0, dilation=1, ceil_mode=False)\n                )\n              )\n            )\n            (2): BatchNorm2d(32, eps=1e-05, momentum=0.1, affine=True, track_running_stats=True)\n          )\n        )\n        (5): InvertedBlock(\n          (layers): Sequential(\n            (0): Sequential(\n              (0): Conv2d(32, 192, kernel_size=(1, 1), stride=(1, 1), bias=False)\n              (1): BatchNorm2d(192, eps=1e-05, momentum=0.1, affine=True, track_running_stats=True)\n              (2): ReLU6(inplace=True)\n            )\n            (1): PolyWrapper(\n              (branches): ModuleList(\n                (0-2): 3 x PolyBlock(\n                  (conv): Conv(\n                    (conv): Conv2d(192, 32, kernel_size=(3, 3), stride=(1, 1), padding=(1, 1))\n                  )\n                  (ch_maxpool): MaxPool3d(kernel_size=(192, 1, 1), stride=(192, 1, 1), padding=0, dilation=1, ceil_mode=False)\n                )\n              )\n            )\n            (2): BatchNorm2d(32, eps=1e-05, momentum=0.1, affine=True, track_running_stats=True)\n          )\n        )\n        (6): InvertedBlock(\n          (layers): Sequential(\n            (0): Sequential(\n              (0): Conv2d(32, 192, kernel_size=(1, 1), stride=(1, 1), bias=False)\n              (1): BatchNorm2d(192, eps=1e-05, momentum=0.1, affine=True, track_running_stats=True)\n              (2): ReLU6(inplace=True)\n            )\n            (1): PolyWrapper(\n              (branches): ModuleList(\n                (0-2): 3 x PolyBlock(\n                  (conv): Conv(\n                    (conv): Conv2d(192, 64, kernel_size=(3, 3), stride=(2, 2), padding=(1, 1))\n                  )\n                  (ch_maxpool): MaxPool3d(kernel_size=(192, 1, 1), stride=(192, 1, 1), padding=0, dilation=1, ceil_mode=False)\n                )\n              )\n            )\n            (2): BatchNorm2d(64, eps=1e-05, momentum=0.1, affine=True, track_running_stats=True)\n          )\n        )\n        (7): InvertedBlock(\n          (layers): Sequential(\n            (0): Sequential(\n              (0): Conv2d(64, 384, kernel_size=(1, 1), stride=(1, 1), bias=False)\n              (1): BatchNorm2d(384, eps=1e-05, momentum=0.1, affine=True, track_running_stats=True)\n              (2): ReLU6(inplace=True)\n            )\n            (1): PolyWrapper(\n              (branches): ModuleList(\n                (0-2): 3 x PolyBlock(\n                  (conv): Conv(\n                    (conv): Conv2d(384, 64, kernel_size=(3, 3), stride=(1, 1), padding=(1, 1))\n                  )\n                  (ch_maxpool): MaxPool3d(kernel_size=(384, 1, 1), stride=(384, 1, 1), padding=0, dilation=1, ceil_mode=False)\n                )\n              )\n            )\n            (2): BatchNorm2d(64, eps=1e-05, momentum=0.1, affine=True, track_running_stats=True)\n          )\n        )\n        (8): InvertedBlock(\n          (layers): Sequential(\n            (0): Sequential(\n              (0): Conv2d(64, 384, kernel_size=(1, 1), stride=(1, 1), bias=False)\n              (1): BatchNorm2d(384, eps=1e-05, momentum=0.1, affine=True, track_running_stats=True)\n              (2): ReLU6(inplace=True)\n            )\n            (1): PolyWrapper(\n              (branches): ModuleList(\n                (0-2): 3 x PolyBlock(\n                  (conv): Conv(\n                    (conv): Conv2d(384, 64, kernel_size=(3, 3), stride=(1, 1), padding=(1, 1))\n                  )\n                  (ch_maxpool): MaxPool3d(kernel_size=(384, 1, 1), stride=(384, 1, 1), padding=0, dilation=1, ceil_mode=False)\n                )\n              )\n            )\n            (2): BatchNorm2d(64, eps=1e-05, momentum=0.1, affine=True, track_running_stats=True)\n          )\n        )\n        (9): InvertedBlock(\n          (layers): Sequential(\n            (0): Sequential(\n              (0): Conv2d(64, 384, kernel_size=(1, 1), stride=(1, 1), bias=False)\n              (1): BatchNorm2d(384, eps=1e-05, momentum=0.1, affine=True, track_running_stats=True)\n              (2): ReLU6(inplace=True)\n            )\n            (1): PolyWrapper(\n              (branches): ModuleList(\n                (0-2): 3 x PolyBlock(\n                  (conv): Conv(\n                    (conv): Conv2d(384, 64, kernel_size=(3, 3), stride=(1, 1), padding=(1, 1))\n                  )\n                  (ch_maxpool): MaxPool3d(kernel_size=(384, 1, 1), stride=(384, 1, 1), padding=0, dilation=1, ceil_mode=False)\n                )\n              )\n            )\n            (2): BatchNorm2d(64, eps=1e-05, momentum=0.1, affine=True, track_running_stats=True)\n          )\n        )\n        (10): InvertedBlock(\n          (layers): Sequential(\n            (0): Sequential(\n              (0): Conv2d(64, 384, kernel_size=(1, 1), stride=(1, 1), bias=False)\n              (1): BatchNorm2d(384, eps=1e-05, momentum=0.1, affine=True, track_running_stats=True)\n              (2): ReLU6(inplace=True)\n            )\n            (1): PolyWrapper(\n              (branches): ModuleList(\n                (0-2): 3 x PolyBlock(\n                  (conv): Conv(\n                    (conv): Conv2d(384, 96, kernel_size=(3, 3), stride=(1, 1), padding=(1, 1))\n                  )\n                  (ch_maxpool): MaxPool3d(kernel_size=(384, 1, 1), stride=(384, 1, 1), padding=0, dilation=1, ceil_mode=False)\n                )\n              )\n            )\n            (2): BatchNorm2d(96, eps=1e-05, momentum=0.1, affine=True, track_running_stats=True)\n          )\n        )\n        (11): InvertedBlock(\n          (layers): Sequential(\n            (0): Sequential(\n              (0): Conv2d(96, 576, kernel_size=(1, 1), stride=(1, 1), bias=False)\n              (1): BatchNorm2d(576, eps=1e-05, momentum=0.1, affine=True, track_running_stats=True)\n              (2): ReLU6(inplace=True)\n            )\n            (1): PolyWrapper(\n              (branches): ModuleList(\n                (0-2): 3 x PolyBlock(\n                  (conv): Conv(\n                    (conv): Conv2d(576, 96, kernel_size=(3, 3), stride=(1, 1), padding=(1, 1))\n                  )\n                  (ch_maxpool): MaxPool3d(kernel_size=(576, 1, 1), stride=(576, 1, 1), padding=0, dilation=1, ceil_mode=False)\n                )\n              )\n            )\n            (2): BatchNorm2d(96, eps=1e-05, momentum=0.1, affine=True, track_running_stats=True)\n          )\n        )\n        (12): InvertedBlock(\n          (layers): Sequential(\n            (0): Sequential(\n              (0): Conv2d(96, 576, kernel_size=(1, 1), stride=(1, 1), bias=False)\n              (1): BatchNorm2d(576, eps=1e-05, momentum=0.1, affine=True, track_running_stats=True)\n              (2): ReLU6(inplace=True)\n            )\n            (1): PolyWrapper(\n              (branches): ModuleList(\n                (0-2): 3 x PolyBlock(\n                  (conv): Conv(\n                    (conv): Conv2d(576, 96, kernel_size=(3, 3), stride=(1, 1), padding=(1, 1))\n                  )\n                  (ch_maxpool): MaxPool3d(kernel_size=(576, 1, 1), stride=(576, 1, 1), padding=0, dilation=1, ceil_mode=False)\n                )\n              )\n            )\n            (2): BatchNorm2d(96, eps=1e-05, momentum=0.1, affine=True, track_running_stats=True)\n          )\n        )\n        (13): InvertedBlock(\n          (layers): Sequential(\n            (0): Sequential(\n              (0): Conv2d(96, 576, kernel_size=(1, 1), stride=(1, 1), bias=False)\n              (1): BatchNorm2d(576, eps=1e-05, momentum=0.1, affine=True, track_running_stats=True)\n              (2): ReLU6(inplace=True)\n            )\n            (1): PolyWrapper(\n              (branches): ModuleList(\n                (0-2): 3 x PolyBlock(\n                  (conv): Conv(\n                    (conv): Conv2d(576, 160, kernel_size=(3, 3), stride=(2, 2), padding=(1, 1))\n                  )\n                  (ch_maxpool): MaxPool3d(kernel_size=(576, 1, 1), stride=(576, 1, 1), padding=0, dilation=1, ceil_mode=False)\n                )\n              )\n            )\n            (2): BatchNorm2d(160, eps=1e-05, momentum=0.1, affine=True, track_running_stats=True)\n          )\n        )\n        (14): InvertedBlock(\n          (layers): Sequential(\n            (0): Sequential(\n              (0): Conv2d(160, 960, kernel_size=(1, 1), stride=(1, 1), bias=False)\n              (1): BatchNorm2d(960, eps=1e-05, momentum=0.1, affine=True, track_running_stats=True)\n              (2): ReLU6(inplace=True)\n            )\n            (1): PolyWrapper(\n              (branches): ModuleList(\n                (0-2): 3 x PolyBlock(\n                  (conv): Conv(\n                    (conv): Conv2d(960, 160, kernel_size=(3, 3), stride=(1, 1), padding=(1, 1))\n                  )\n                  (ch_maxpool): MaxPool3d(kernel_size=(960, 1, 1), stride=(960, 1, 1), padding=0, dilation=1, ceil_mode=False)\n                )\n              )\n            )\n            (2): BatchNorm2d(160, eps=1e-05, momentum=0.1, affine=True, track_running_stats=True)\n          )\n        )\n        (15): InvertedBlock(\n          (layers): Sequential(\n            (0): Sequential(\n              (0): Conv2d(160, 960, kernel_size=(1, 1), stride=(1, 1), bias=False)\n              (1): BatchNorm2d(960, eps=1e-05, momentum=0.1, affine=True, track_running_stats=True)\n              (2): ReLU6(inplace=True)\n            )\n            (1): PolyWrapper(\n              (branches): ModuleList(\n                (0-2): 3 x PolyBlock(\n                  (conv): Conv(\n                    (conv): Conv2d(960, 160, kernel_size=(3, 3), stride=(1, 1), padding=(1, 1))\n                  )\n                  (ch_maxpool): MaxPool3d(kernel_size=(960, 1, 1), stride=(960, 1, 1), padding=0, dilation=1, ceil_mode=False)\n                )\n              )\n            )\n            (2): BatchNorm2d(160, eps=1e-05, momentum=0.1, affine=True, track_running_stats=True)\n          )\n        )\n        (16): InvertedBlock(\n          (layers): Sequential(\n            (0): Sequential(\n              (0): Conv2d(160, 960, kernel_size=(1, 1), stride=(1, 1), bias=False)\n              (1): BatchNorm2d(960, eps=1e-05, momentum=0.1, affine=True, track_running_stats=True)\n              (2): ReLU6(inplace=True)\n            )\n            (1): PolyWrapper(\n              (branches): ModuleList(\n                (0-2): 3 x PolyBlock(\n                  (conv): Conv(\n                    (conv): Conv2d(960, 320, kernel_size=(3, 3), stride=(1, 1), padding=(1, 1))\n                  )\n                  (ch_maxpool): MaxPool3d(kernel_size=(960, 1, 1), stride=(960, 1, 1), padding=0, dilation=1, ceil_mode=False)\n                )\n              )\n            )\n            (2): BatchNorm2d(320, eps=1e-05, momentum=0.1, affine=True, track_running_stats=True)\n          )\n        )\n      )\n      (last_conv): Sequential(\n        (0): Conv2d(320, 1280, kernel_size=(1, 1), stride=(1, 1), bias=False)\n        (1): BatchNorm2d(1280, eps=1e-05, momentum=0.1, affine=True, track_running_stats=True)\n        (2): ReLU6(inplace=True)\n      )\n      (classifier): Sequential(\n        (0): Dropout(p=0.2, inplace=False)\n        (1): Linear(in_features=1280, out_features=1000, bias=True)\n      )\n      (avg_pool): AdaptiveAvgPool2d(output_size=1)\n    )\n    (1): ReLU()\n    (2): Linear(in_features=1000, out_features=256, bias=True)\n    (3): ReLU()\n    (4): Linear(in_features=256, out_features=7, bias=True)\n  )\n)"
     },
     "execution_count": 4,
     "metadata": {},
     "output_type": "execute_result"
    }
   ],
   "source": [
    "model"
   ],
   "metadata": {
    "collapsed": false,
    "ExecuteTime": {
     "end_time": "2023-10-19T19:27:55.878415766Z",
     "start_time": "2023-10-19T19:27:55.850433553Z"
    }
   },
   "id": "8be429e661b76a5b"
  },
  {
   "cell_type": "code",
   "execution_count": 5,
   "outputs": [],
   "source": [
    "import torch\n",
    "data = torch.ones((1, 3, 320, 320))\n",
    "out = model(data)"
   ],
   "metadata": {
    "collapsed": false,
    "ExecuteTime": {
     "end_time": "2023-10-19T19:27:56.149567293Z",
     "start_time": "2023-10-19T19:27:55.877974895Z"
    }
   },
   "id": "1e255115b3d0ee18"
  },
  {
   "cell_type": "code",
   "execution_count": 6,
   "outputs": [
    {
     "data": {
      "text/plain": "torch.Size([1, 7])"
     },
     "execution_count": 6,
     "metadata": {},
     "output_type": "execute_result"
    }
   ],
   "source": [
    "out.shape"
   ],
   "metadata": {
    "collapsed": false,
    "ExecuteTime": {
     "end_time": "2023-10-19T19:27:56.151959862Z",
     "start_time": "2023-10-19T19:27:56.150100698Z"
    }
   },
   "id": "9778d5949020efee"
  }
 ],
 "metadata": {
  "kernelspec": {
   "display_name": "Python 3",
   "language": "python",
   "name": "python3"
  },
  "language_info": {
   "codemirror_mode": {
    "name": "ipython",
    "version": 2
   },
   "file_extension": ".py",
   "mimetype": "text/x-python",
   "name": "python",
   "nbconvert_exporter": "python",
   "pygments_lexer": "ipython2",
   "version": "2.7.6"
  }
 },
 "nbformat": 4,
 "nbformat_minor": 5
}
