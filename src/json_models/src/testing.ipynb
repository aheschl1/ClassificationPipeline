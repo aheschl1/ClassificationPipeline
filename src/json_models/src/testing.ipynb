{
 "cells": [
  {
   "cell_type": "code",
   "execution_count": 1,
   "id": "initial_id",
   "metadata": {
    "collapsed": true,
    "ExecuteTime": {
     "end_time": "2023-10-21T19:46:27.595224980Z",
     "start_time": "2023-10-21T19:46:26.758081318Z"
    }
   },
   "outputs": [],
   "source": [
    "from src.json_models.src.model_generator import ModelGenerator"
   ]
  },
  {
   "cell_type": "code",
   "execution_count": 6,
   "outputs": [],
   "source": [
    "gen = ModelGenerator(json_path=\"/home/andrewheschl/PycharmProjects/classification_pipeline/models/mobilenets/mobilenet.json\")"
   ],
   "metadata": {
    "collapsed": false,
    "ExecuteTime": {
     "end_time": "2023-10-21T19:46:44.671869214Z",
     "start_time": "2023-10-21T19:46:44.640120535Z"
    }
   },
   "id": "82fbe34907e059ac"
  },
  {
   "cell_type": "code",
   "execution_count": 8,
   "outputs": [],
   "source": [
    "model = gen.get_model()"
   ],
   "metadata": {
    "collapsed": false,
    "ExecuteTime": {
     "end_time": "2023-10-21T19:46:46.879471650Z",
     "start_time": "2023-10-21T19:46:46.876824479Z"
    }
   },
   "id": "9a27b6a910e00057"
  },
  {
   "cell_type": "code",
   "execution_count": 9,
   "outputs": [
    {
     "data": {
      "text/plain": "torch.Size([1, 7])"
     },
     "execution_count": 9,
     "metadata": {},
     "output_type": "execute_result"
    }
   ],
   "source": [
    "import torch\n",
    "data = torch.ones((1, 3, 320, 320))\n",
    "out = model(data)\n",
    "out.shape"
   ],
   "metadata": {
    "collapsed": false,
    "ExecuteTime": {
     "end_time": "2023-10-21T19:46:47.959481441Z",
     "start_time": "2023-10-21T19:46:47.903620308Z"
    }
   },
   "id": "1e255115b3d0ee18"
  },
  {
   "cell_type": "code",
   "execution_count": 16,
   "outputs": [
    {
     "data": {
      "text/plain": "tensor([[ 0.0482,  0.0563,  0.0304, -0.0883,  0.0912, -0.0179, -0.0028]],\n       grad_fn=<AddmmBackward0>)"
     },
     "execution_count": 16,
     "metadata": {},
     "output_type": "execute_result"
    }
   ],
   "source": [
    "out"
   ],
   "metadata": {
    "collapsed": false,
    "ExecuteTime": {
     "end_time": "2023-10-21T19:46:51.547693414Z",
     "start_time": "2023-10-21T19:46:51.543961276Z"
    }
   },
   "id": "9778d5949020efee"
  }
 ],
 "metadata": {
  "kernelspec": {
   "display_name": "Python 3",
   "language": "python",
   "name": "python3"
  },
  "language_info": {
   "codemirror_mode": {
    "name": "ipython",
    "version": 2
   },
   "file_extension": ".py",
   "mimetype": "text/x-python",
   "name": "python",
   "nbconvert_exporter": "python",
   "pygments_lexer": "ipython2",
   "version": "2.7.6"
  }
 },
 "nbformat": 4,
 "nbformat_minor": 5
}
