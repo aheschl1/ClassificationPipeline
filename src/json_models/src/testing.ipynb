{
 "cells": [
  {
   "cell_type": "code",
   "execution_count": 1,
   "id": "initial_id",
   "metadata": {
    "collapsed": true,
    "ExecuteTime": {
     "end_time": "2023-10-19T19:34:56.246773006Z",
     "start_time": "2023-10-19T19:34:55.270384714Z"
    }
   },
   "outputs": [],
   "source": [
    "from src.json_models.src.model_generator import ModelGenerator"
   ]
  },
  {
   "cell_type": "code",
   "execution_count": 2,
   "outputs": [],
   "source": [
    "gen = ModelGenerator(json_path=\"/home/andrewheschl/PycharmProjects/ClassificationPipeline/models/mobilenets/mobilenet.json\")"
   ],
   "metadata": {
    "collapsed": false,
    "ExecuteTime": {
     "end_time": "2023-10-19T19:34:56.421060361Z",
     "start_time": "2023-10-19T19:34:56.247837353Z"
    }
   },
   "id": "82fbe34907e059ac"
  },
  {
   "cell_type": "code",
   "execution_count": 3,
   "outputs": [],
   "source": [
    "model = gen.get_model()"
   ],
   "metadata": {
    "collapsed": false,
    "ExecuteTime": {
     "end_time": "2023-10-19T19:34:56.423691401Z",
     "start_time": "2023-10-19T19:34:56.421466065Z"
    }
   },
   "id": "9a27b6a910e00057"
  },
  {
   "cell_type": "code",
   "execution_count": 4,
   "outputs": [
    {
     "name": "stdout",
     "output_type": "stream",
     "text": [
      "================ Diagnostic Run torch.onnx.export version 2.0.1 ================\n",
      "verbose: False, log level: Level.ERROR\n",
      "======================= 0 NONE 0 NOTE 0 WARNING 0 ERROR ========================\n"
     ]
    },
    {
     "name": "stderr",
     "output_type": "stream",
     "text": [
      "/home/andrewheschl/anaconda3/envs/class/lib/python3.8/site-packages/torch/onnx/utils.py:1636: UserWarning: The exported ONNX model failed ONNX shape inference.The model will not be executable by the ONNX Runtime.If this is unintended and you believe there is a bug,please report an issue at https://github.com/pytorch/pytorch/issues.Error reported by strict ONNX shape inference: [ShapeInferenceError] Shape inference error(s): (op_type:MaxPool, node name: /self_modules.0/stem_conv/branches.0/ch_maxpool/MaxPool): [ShapeInferenceError] Attribute strides has incorrect size\n",
      "(op_type:Add, node name: /self_modules.0/stem_conv/branches.0/Add): [TypeInferenceError] Input 0 expected to have type but instead is null\n",
      "(op_type:MaxPool, node name: /self_modules.0/stem_conv/branches.1/ch_maxpool/MaxPool): [ShapeInferenceError] Attribute strides has incorrect size\n",
      "(op_type:Add, node name: /self_modules.0/stem_conv/branches.1/Add): [TypeInferenceError] Input 0 expected to have type but instead is null\n",
      "(op_type:MaxPool, node name: /self_modules.0/stem_conv/branches.2/ch_maxpool/MaxPool): [ShapeInferenceError] Attribute strides has incorrect size\n",
      "(op_type:Add, node name: /self_modules.0/stem_conv/branches.2/Add): [TypeInferenceError] Input 0 expected to have type but instead is null\n",
      " (Triggered internally at /opt/conda/conda-bld/pytorch_1682343962757/work/torch/csrc/jit/serialization/export.cpp:1407.)\n",
      "  _C._check_onnx_proto(proto)\n"
     ]
    }
   ],
   "source": [
    "import torch\n",
    "data = torch.ones((1, 3, 320, 320))\n",
    "out = model(data)\n",
    "\n",
    "file = f\"/home/andrewheschl/Documents/Dataset/ClassPipeline/model_topology.onnx\"\n",
    "torch.onnx.export(model, data, file, verbose=False)"
   ],
   "metadata": {
    "collapsed": false,
    "ExecuteTime": {
     "end_time": "2023-10-19T19:34:58.615448330Z",
     "start_time": "2023-10-19T19:34:56.423289333Z"
    }
   },
   "id": "1e255115b3d0ee18"
  },
  {
   "cell_type": "code",
   "execution_count": 5,
   "outputs": [
    {
     "data": {
      "text/plain": "torch.Size([1, 7])"
     },
     "execution_count": 5,
     "metadata": {},
     "output_type": "execute_result"
    }
   ],
   "source": [
    "out.shape"
   ],
   "metadata": {
    "collapsed": false,
    "ExecuteTime": {
     "end_time": "2023-10-19T19:34:58.618833921Z",
     "start_time": "2023-10-19T19:34:58.615289170Z"
    }
   },
   "id": "9778d5949020efee"
  }
 ],
 "metadata": {
  "kernelspec": {
   "display_name": "Python 3",
   "language": "python",
   "name": "python3"
  },
  "language_info": {
   "codemirror_mode": {
    "name": "ipython",
    "version": 2
   },
   "file_extension": ".py",
   "mimetype": "text/x-python",
   "name": "python",
   "nbconvert_exporter": "python",
   "pygments_lexer": "ipython2",
   "version": "2.7.6"
  }
 },
 "nbformat": 4,
 "nbformat_minor": 5
}
